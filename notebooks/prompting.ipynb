{
 "cells": [
  {
   "cell_type": "code",
   "execution_count": 1,
   "id": "27cc416f-bfb7-4303-9644-51ade9ee4ec2",
   "metadata": {},
   "outputs": [],
   "source": [
    "import sys\n",
    "\n",
    "module_path = \"../src\"\n",
    "\n",
    "if module_path not in sys.path:\n",
    "    sys.path.append(module_path)"
   ]
  },
  {
   "cell_type": "code",
   "execution_count": 2,
   "id": "db769cbd-c4b2-4e65-81cd-28e4561c4277",
   "metadata": {},
   "outputs": [],
   "source": [
    "# Load dataset\n",
    "from dataset import get_dataset\n",
    "\n",
    "dataset = get_dataset()"
   ]
  },
  {
   "cell_type": "code",
   "execution_count": 3,
   "id": "6fabb1a8-ca58-4a50-98b3-bc08e69864ae",
   "metadata": {},
   "outputs": [
    {
     "name": "stdout",
     "output_type": "stream",
     "text": [
      "cuda\n"
     ]
    }
   ],
   "source": [
    "# Load libraries\n",
    "from transformers import AutoModelForCausalLM, AutoModelForMaskedLM, AutoModelForSeq2SeqLM, AutoTokenizer\n",
    "import torch\n",
    "\n",
    "device = \"cuda\" if torch.cuda.is_available() else \"cpu\"\n",
    "print(device)\n",
    "\n",
    "model_id = \"google/flan-t5-xl\""
   ]
  },
  {
   "cell_type": "code",
   "execution_count": 4,
   "id": "2e9921dc-bb7b-49d0-a8f1-05515f5417ba",
   "metadata": {},
   "outputs": [],
   "source": [
    "# Load tokenizer\n",
    "tokenizer = AutoTokenizer.from_pretrained(model_id)\n",
    "tokenizer.pad_token_id = tokenizer.eos_token_id\n",
    "\n",
    "# Shuffle and pick subset from dataset\n",
    "subset = dataset[\"test\"].shuffle(seed=442333 + 424714)"
   ]
  },
  {
   "cell_type": "code",
   "execution_count": 5,
   "id": "e862357e-ad81-4d6b-a890-3a97ee043ea6",
   "metadata": {},
   "outputs": [
    {
     "data": {
      "application/vnd.jupyter.widget-view+json": {
       "model_id": "3b69aeffca09425788c131432cb0f4dd",
       "version_major": 2,
       "version_minor": 0
      },
      "text/plain": [
       "Loading checkpoint shards:   0%|          | 0/2 [00:00<?, ?it/s]"
      ]
     },
     "metadata": {},
     "output_type": "display_data"
    }
   ],
   "source": [
    "# Setup model\n",
    "model = AutoModelForSeq2SeqLM.from_pretrained(model_id).to(device)"
   ]
  },
  {
   "cell_type": "code",
   "execution_count": 6,
   "id": "8aea6a1c-425a-4198-a80a-4f0e58c5cf4d",
   "metadata": {},
   "outputs": [],
   "source": [
    "# Define prompting func\n",
    "def ask(text, max_new_tokens=20):\n",
    "    inputs = tokenizer(text, return_tensors=\"pt\").to(device)\n",
    "\n",
    "    outputs = model.generate(**inputs, max_new_tokens=max_new_tokens)\n",
    "    return tokenizer.decode(outputs[0], skip_special_tokens=True)"
   ]
  },
  {
   "cell_type": "code",
   "execution_count": 9,
   "id": "d38b57a4-dfb4-47bc-aca7-c7e772b8f9f8",
   "metadata": {},
   "outputs": [
    {
     "data": {
      "application/vnd.jupyter.widget-view+json": {
       "model_id": "8932b6e5c4a749e18547c0a67a6409de",
       "version_major": 2,
       "version_minor": 0
      },
      "text/plain": [
       "  0%|          | 0/7600 [00:00<?, ?it/s]"
      ]
     },
     "metadata": {},
     "output_type": "display_data"
    },
    {
     "name": "stdout",
     "output_type": "stream",
     "text": [
      "Task for model:\n",
      "You have 4 categories: World, Sports, Business, Sci/Tech. Use exactly those categories. Decide which category the following text belongs to: 'Trapeze Software Eases Services Delivery (Ziff Davis) Ziff Davis - Trapeze Networks this week will announce upgrades to its wireless LAN switch software.'.\n",
      "Answer: Sci/Tech, expected answer: Sci/Tech\n",
      "\n",
      "Task for model:\n",
      "You have 4 categories: World, Sports, Business, Sci/Tech. Use exactly those categories. Decide which category the following text belongs to: 'Update 4: Belo to Cut 250 Jobs, Mostly in Dallas Media owner Belo Corp. said Wednesday that it would cut 250 jobs, more than half of them at its flagship newspaper, The Dallas Morning News, and that an internal investigation into circulation overstatements '.\n",
      "Answer: Business, expected answer: Business\n",
      "\n",
      "Task for model:\n",
      "You have 4 categories: World, Sports, Business, Sci/Tech. Use exactly those categories. Decide which category the following text belongs to: 'China's Lenovo in talks with 'major IT firm' for acquisition (AFP) AFP - China's largest manufacturer of personal computers Lenovo Group said it is in negotiations with a major information technology company, believed to be US-based IBM.'.\n",
      "Answer: Sci/Tech, expected answer: Sci/Tech\n",
      "\n",
      "Accuracy: 92.55263157894737%\n"
     ]
    }
   ],
   "source": [
    "categories = [\"World\", \"Sports\", \"Business\", \"Sci/Tech\"]\n",
    "\n",
    "from tqdm.notebook import tqdm\n",
    "\n",
    "correct = 0\n",
    "total = 0\n",
    "for example in tqdm(subset):\n",
    "    text = example[\"text\"]\n",
    "    category = example[\"label\"]\n",
    "\n",
    "    context = f\"You have {len(categories)} categories: {', '. join(categories)}. Use exactly those categories. Decide which category the following text belongs to: \"\n",
    "\n",
    "    prompt = f\"{context}'{text}'.\"\n",
    "\n",
    "    answer = ask(prompt)\n",
    "\n",
    "    if total < 3:\n",
    "        print(\"Task for model:\")\n",
    "        print(prompt)\n",
    "        print(f\"Answer: {answer}, expected answer: {categories[category]}\")\n",
    "        print()\n",
    "\n",
    "    # model could respond with unknown string, but we trust\n",
    "    index = categories.index(answer)\n",
    "\n",
    "    if index == category:\n",
    "        correct += 1\n",
    "    total += 1\n",
    "\n",
    "print(f\"Accuracy: {correct*100/total}%\")"
   ]
  }
 ],
 "metadata": {
  "kernelspec": {
   "display_name": "Python 3 (ipykernel)",
   "language": "python",
   "name": "python3"
  },
  "language_info": {
   "codemirror_mode": {
    "name": "ipython",
    "version": 3
   },
   "file_extension": ".py",
   "mimetype": "text/x-python",
   "name": "python",
   "nbconvert_exporter": "python",
   "pygments_lexer": "ipython3",
   "version": "3.11.7"
  }
 },
 "nbformat": 4,
 "nbformat_minor": 5
}
