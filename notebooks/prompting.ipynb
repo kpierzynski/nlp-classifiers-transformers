{
 "cells": [
  {
   "cell_type": "code",
   "execution_count": 1,
   "id": "27cc416f-bfb7-4303-9644-51ade9ee4ec2",
   "metadata": {},
   "outputs": [],
   "source": [
    "import sys\n",
    "\n",
    "module_path = \"../src\"\n",
    "\n",
    "if module_path not in sys.path:\n",
    "    sys.path.append(module_path)"
   ]
  },
  {
   "cell_type": "code",
   "execution_count": 2,
   "id": "db769cbd-c4b2-4e65-81cd-28e4561c4277",
   "metadata": {},
   "outputs": [],
   "source": [
    "# Load dataset\n",
    "from dataset import get_dataset\n",
    "dataset = get_dataset()"
   ]
  },
  {
   "cell_type": "code",
   "execution_count": 3,
   "id": "6fabb1a8-ca58-4a50-98b3-bc08e69864ae",
   "metadata": {},
   "outputs": [
    {
     "name": "stdout",
     "output_type": "stream",
     "text": [
      "cuda\n"
     ]
    }
   ],
   "source": [
    "# Load libraries\n",
    "from transformers import AutoModelForCausalLM, AutoModelForMaskedLM, AutoModelForSeq2SeqLM, AutoTokenizer\n",
    "import torch\n",
    "\n",
    "device = 'cuda' if torch.cuda.is_available() else 'cpu'\n",
    "print(device)\n",
    "\n",
    "model_id = \"google/flan-t5-xl\""
   ]
  },
  {
   "cell_type": "code",
   "execution_count": 4,
   "id": "2e9921dc-bb7b-49d0-a8f1-05515f5417ba",
   "metadata": {},
   "outputs": [],
   "source": [
    "# Load tokenizer\n",
    "tokenizer = AutoTokenizer.from_pretrained(model_id)\n",
    "tokenizer.pad_token_id = tokenizer.eos_token_id\n",
    "\n",
    "# Shuffle and pick subset from dataset\n",
    "subset = dataset['train'].shuffle(seed=442333+424714).select(range(5000))"
   ]
  },
  {
   "cell_type": "code",
   "execution_count": 5,
   "id": "e862357e-ad81-4d6b-a890-3a97ee043ea6",
   "metadata": {},
   "outputs": [
    {
     "data": {
      "application/vnd.jupyter.widget-view+json": {
       "model_id": "671294ab885f415b8e0ed2ce7c8bd8a3",
       "version_major": 2,
       "version_minor": 0
      },
      "text/plain": [
       "Loading checkpoint shards:   0%|          | 0/2 [00:00<?, ?it/s]"
      ]
     },
     "metadata": {},
     "output_type": "display_data"
    }
   ],
   "source": [
    "# Setup model\n",
    "model = AutoModelForSeq2SeqLM.from_pretrained(model_id).to(device)"
   ]
  },
  {
   "cell_type": "code",
   "execution_count": 6,
   "id": "8aea6a1c-425a-4198-a80a-4f0e58c5cf4d",
   "metadata": {},
   "outputs": [],
   "source": [
    "# Define prompting func\n",
    "def ask(text, max_new_tokens = 20):\n",
    "    inputs = tokenizer(text, return_tensors=\"pt\").to(device)\n",
    "\n",
    "    outputs = model.generate(**inputs, max_new_tokens=max_new_tokens)\n",
    "    return tokenizer.decode(outputs[0], skip_special_tokens=True)"
   ]
  },
  {
   "cell_type": "code",
   "execution_count": 7,
   "id": "c1ff8e55-8c68-41ab-b978-abd069318fa1",
   "metadata": {},
   "outputs": [
    {
     "data": {
      "text/plain": [
       "'negative'"
      ]
     },
     "execution_count": 7,
     "metadata": {},
     "output_type": "execute_result"
    }
   ],
   "source": [
    "text = \"I hate this film! Is this a positive or negative review?\"\n",
    "ask(text)"
   ]
  },
  {
   "cell_type": "code",
   "execution_count": 8,
   "id": "0e3eb4d8-411d-4634-a7f4-b7ee4336f845",
   "metadata": {},
   "outputs": [
    {
     "data": {
      "text/plain": [
       "'no'"
      ]
     },
     "execution_count": 8,
     "metadata": {},
     "output_type": "execute_result"
    }
   ],
   "source": [
    "text = \"I think she didn't send her homework! Will girl pass?\"\n",
    "ask(text)"
   ]
  },
  {
   "cell_type": "code",
   "execution_count": 9,
   "id": "28507f57-d14a-4ce7-9534-08fe90802b72",
   "metadata": {},
   "outputs": [
    {
     "data": {
      "text/plain": [
       "'23 and 27'"
      ]
     },
     "execution_count": 9,
     "metadata": {},
     "output_type": "execute_result"
    }
   ],
   "source": [
    "text = \"\"\"\n",
    "When patient had stroke, its code 22.\n",
    "If patient had low red blood cells, it's code 27.\n",
    "When patient had heart failure, it is code 23.\n",
    "\n",
    "Patient description: \"Man, 30 years old, exhibits signs of cardiac insufficiency, such as shortness of breath, fatigue, and leg swelling. Test results showed below normal count of erythrocytes. Additional assessment and medical history are necessary for a thorough diagnosis and tailored treatment approach.\"\n",
    "Which multiple codes should be used for this description?\n",
    "\"\"\"\n",
    "ask(text)"
   ]
  },
  {
   "cell_type": "code",
   "execution_count": 12,
   "id": "d38b57a4-dfb4-47bc-aca7-c7e772b8f9f8",
   "metadata": {},
   "outputs": [
    {
     "data": {
      "application/vnd.jupyter.widget-view+json": {
       "model_id": "75b932fb31fe4793a6828010ea0f8415",
       "version_major": 2,
       "version_minor": 0
      },
      "text/plain": [
       "  0%|          | 0/5000 [00:00<?, ?it/s]"
      ]
     },
     "metadata": {},
     "output_type": "display_data"
    },
    {
     "name": "stdout",
     "output_type": "stream",
     "text": [
      "Accuracy: 93.32%\n"
     ]
    }
   ],
   "source": [
    "categories = [\"World\", \"Sports\", \"Business\", \"Sci/Tech\"]\n",
    "\n",
    "from tqdm.notebook import tqdm\n",
    "\n",
    "correct = 0\n",
    "total = 0\n",
    "for example in tqdm(subset):\n",
    "    text = example['text']\n",
    "    category = example['label']\n",
    "    \n",
    "    context = f\"You have {len(categories)} categories: {', '. join(categories)}. Use exactly those categories. Decide which category the following text belongs to: \"\n",
    "\n",
    "    prompt = f\"{context}'{text}'.\"\n",
    "\n",
    "    answer = ask(prompt)\n",
    "\n",
    "    # model could respond with unknown string, but we trust\n",
    "    index = categories.index(answer)\n",
    "\n",
    "    if index == category:\n",
    "        correct += 1\n",
    "    total += 1\n",
    "\n",
    "print(f\"Accuracy: {correct*100/total}%\")"
   ]
  }
 ],
 "metadata": {
  "kernelspec": {
   "display_name": "Python 3 (ipykernel)",
   "language": "python",
   "name": "python3"
  },
  "language_info": {
   "codemirror_mode": {
    "name": "ipython",
    "version": 3
   },
   "file_extension": ".py",
   "mimetype": "text/x-python",
   "name": "python",
   "nbconvert_exporter": "python",
   "pygments_lexer": "ipython3",
   "version": "3.11.7"
  }
 },
 "nbformat": 4,
 "nbformat_minor": 5
}
